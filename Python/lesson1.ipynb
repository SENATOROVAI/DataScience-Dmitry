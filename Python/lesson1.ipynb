{
 "cells": [
  {
   "cell_type": "code",
   "execution_count": null,
   "metadata": {
    "vscode": {
     "languageId": "plaintext"
    }
   },
   "outputs": [],
   "source": [
    "\"\"\"ДЗ по первому milestones.\"\"\""
   ]
  },
  {
   "cell_type": "markdown",
   "metadata": {},
   "source": [
    "## Git\n",
    "1. Подписался на команду\n",
    "2. Сделал описанию к репозиторию\n",
    "\n",
    "## Настройки окружения\n",
    "1. Ранее настроил\n",
    "2. Ранее установил линтеры\n",
    "3. Ранее обновил линтеры\n",
    "\n",
    "## HELP \n",
    "1. Узнал по чату HELP"
   ]
  }
 ],
 "metadata": {
  "language_info": {
   "name": "python"
  }
 },
 "nbformat": 4,
 "nbformat_minor": 2
}
