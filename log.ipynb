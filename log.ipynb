{
 "cells": [
  {
   "cell_type": "code",
   "execution_count": null,
   "id": "dcbc5436",
   "metadata": {},
   "outputs": [],
   "source": [
    "\"\"\"Log File.\"\"\""
   ]
  },
  {
   "cell_type": "markdown",
   "id": "c9e4ff93",
   "metadata": {},
   "source": [
    "04/11.\n",
    "\n",
    "1. Вспомнили последовательности\n",
    "2. Повторили предел по Коши\n",
    "3. Изучили свойства сходящихся последовательностей"
   ]
  },
  {
   "cell_type": "markdown",
   "id": "770fb276",
   "metadata": {},
   "source": [
    "09/11.\n",
    "\n",
    "1. Рассмотрели решения пределов последовательности (неопределенность на неопределенность)\n",
    "2. Определение предела функции по Коши\n",
    "3. Рассмотрели нахождения предела функции в точке\n",
    "4. Рассмотрели метод математической индукции"
   ]
  }
 ],
 "metadata": {
  "jupytext": {
   "cell_metadata_filter": "-all",
   "main_language": "python",
   "notebook_metadata_filter": "-all"
  },
  "language_info": {
   "name": "python"
  }
 },
 "nbformat": 4,
 "nbformat_minor": 5
}
